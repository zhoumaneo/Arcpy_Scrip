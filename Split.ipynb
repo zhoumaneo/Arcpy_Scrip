{
 "cells": [
  {
   "cell_type": "code",
   "execution_count": 1,
   "metadata": {},
   "outputs": [],
   "source": [
    "import numpy as np\n",
    "import pandas as pd"
   ]
  },
  {
   "cell_type": "code",
   "execution_count": 40,
   "metadata": {},
   "outputs": [],
   "source": [
    "data = pd.read_csv('sx.csv')"
   ]
  },
  {
   "cell_type": "code",
   "execution_count": 41,
   "metadata": {},
   "outputs": [
    {
     "data": {
      "text/plain": [
       "Index(['name', 'type', 'tel', 'locationx', 'locationy', 'province', 'city',\n",
       "       'citycode', 'district', 'adcode', 'typecode', 'address', 'gpsx', 'gpsy',\n",
       "       'bdx', 'bdy'],\n",
       "      dtype='object')"
      ]
     },
     "execution_count": 41,
     "metadata": {},
     "output_type": "execute_result"
    }
   ],
   "source": [
    "data.columns"
   ]
  },
  {
   "cell_type": "code",
   "execution_count": 42,
   "metadata": {},
   "outputs": [],
   "source": [
    "data = data[['name','city', 'type', 'address', 'gpsx', 'gpsy']]"
   ]
  },
  {
   "cell_type": "code",
   "execution_count": 43,
   "metadata": {},
   "outputs": [
    {
     "data": {
      "text/plain": [
       "Index(['name', 'city', 'type', 'address', 'gpsx', 'gpsy'], dtype='object')"
      ]
     },
     "execution_count": 43,
     "metadata": {},
     "output_type": "execute_result"
    }
   ],
   "source": [
    "data.columns"
   ]
  },
  {
   "cell_type": "code",
   "execution_count": 44,
   "metadata": {
    "scrolled": true
   },
   "outputs": [
    {
     "data": {
      "text/html": [
       "<div>\n",
       "<style scoped>\n",
       "    .dataframe tbody tr th:only-of-type {\n",
       "        vertical-align: middle;\n",
       "    }\n",
       "\n",
       "    .dataframe tbody tr th {\n",
       "        vertical-align: top;\n",
       "    }\n",
       "\n",
       "    .dataframe thead th {\n",
       "        text-align: right;\n",
       "    }\n",
       "</style>\n",
       "<table border=\"1\" class=\"dataframe\">\n",
       "  <thead>\n",
       "    <tr style=\"text-align: right;\">\n",
       "      <th></th>\n",
       "      <th>name</th>\n",
       "      <th>city</th>\n",
       "      <th>type</th>\n",
       "      <th>address</th>\n",
       "      <th>gpsx</th>\n",
       "      <th>gpsy</th>\n",
       "    </tr>\n",
       "  </thead>\n",
       "  <tbody>\n",
       "    <tr>\n",
       "      <td>0</td>\n",
       "      <td>黄河</td>\n",
       "      <td>延安市</td>\n",
       "      <td>地名地址信息;自然地名;河流</td>\n",
       "      <td>永和县</td>\n",
       "      <td>110.404001</td>\n",
       "      <td>36.895011</td>\n",
       "    </tr>\n",
       "    <tr>\n",
       "      <td>1</td>\n",
       "      <td>西安市公安局阎良分局出租汽车行业治安管理办公室</td>\n",
       "      <td>西安市</td>\n",
       "      <td>政府机构及社会团体;交通车辆管理;交通管理机构</td>\n",
       "      <td>人民东路108号</td>\n",
       "      <td>109.238018</td>\n",
       "      <td>34.659772</td>\n",
       "    </tr>\n",
       "    <tr>\n",
       "      <td>2</td>\n",
       "      <td>周至县交通运输管理站楼观台客运市场管理办公室</td>\n",
       "      <td>西安市</td>\n",
       "      <td>政府机构及社会团体;交通车辆管理;交通车辆管理相关</td>\n",
       "      <td>尚九路与108省道交叉口东150米</td>\n",
       "      <td>108.424507</td>\n",
       "      <td>34.082372</td>\n",
       "    </tr>\n",
       "    <tr>\n",
       "      <td>3</td>\n",
       "      <td>周至县交通运输管理站就峰分站</td>\n",
       "      <td>西安市</td>\n",
       "      <td>政府机构及社会团体;交通车辆管理;交通车辆管理相关</td>\n",
       "      <td>九峰乡S108附近</td>\n",
       "      <td>108.424508</td>\n",
       "      <td>34.082377</td>\n",
       "    </tr>\n",
       "    <tr>\n",
       "      <td>4</td>\n",
       "      <td>周至县公安局公路巡逻民警大队终南中队</td>\n",
       "      <td>西安市</td>\n",
       "      <td>政府机构及社会团体;交通车辆管理;交通管理机构</td>\n",
       "      <td>108国道南50米</td>\n",
       "      <td>108.373226</td>\n",
       "      <td>34.148573</td>\n",
       "    </tr>\n",
       "  </tbody>\n",
       "</table>\n",
       "</div>"
      ],
      "text/plain": [
       "                      name city                       type            address  \\\n",
       "0                       黄河  延安市             地名地址信息;自然地名;河流                永和县   \n",
       "1  西安市公安局阎良分局出租汽车行业治安管理办公室  西安市    政府机构及社会团体;交通车辆管理;交通管理机构           人民东路108号   \n",
       "2   周至县交通运输管理站楼观台客运市场管理办公室  西安市  政府机构及社会团体;交通车辆管理;交通车辆管理相关  尚九路与108省道交叉口东150米   \n",
       "3           周至县交通运输管理站就峰分站  西安市  政府机构及社会团体;交通车辆管理;交通车辆管理相关          九峰乡S108附近   \n",
       "4       周至县公安局公路巡逻民警大队终南中队  西安市    政府机构及社会团体;交通车辆管理;交通管理机构          108国道南50米   \n",
       "\n",
       "         gpsx       gpsy  \n",
       "0  110.404001  36.895011  \n",
       "1  109.238018  34.659772  \n",
       "2  108.424507  34.082372  \n",
       "3  108.424508  34.082377  \n",
       "4  108.373226  34.148573  "
      ]
     },
     "execution_count": 44,
     "metadata": {},
     "output_type": "execute_result"
    }
   ],
   "source": [
    "data.head()"
   ]
  },
  {
   "cell_type": "code",
   "execution_count": 45,
   "metadata": {},
   "outputs": [],
   "source": [
    "data['type'] = data['type'].str.split(';',expand=True)[0]"
   ]
  },
  {
   "cell_type": "code",
   "execution_count": 50,
   "metadata": {},
   "outputs": [],
   "source": [
    "data['type'] = data['type'].str.replace('/',';')"
   ]
  },
  {
   "cell_type": "code",
   "execution_count": 65,
   "metadata": {},
   "outputs": [],
   "source": [
    "citys = data.groupby(data['city'])"
   ]
  },
  {
   "cell_type": "code",
   "execution_count": 58,
   "metadata": {},
   "outputs": [],
   "source": [
    "data['type'] = np.where(data[\"type\"] == \"dining\", \"餐饮服务\",data['type'])"
   ]
  },
  {
   "cell_type": "code",
   "execution_count": 59,
   "metadata": {},
   "outputs": [],
   "source": [
    "data['type'] = np.where(data[\"type\"] == \"hotel\", \"住宿服务\",data['type'])"
   ]
  },
  {
   "cell_type": "code",
   "execution_count": 60,
   "metadata": {},
   "outputs": [],
   "source": [
    "data['type'] = np.where(data[\"type\"] == \"停车场\", \"交通设施服务\",data['type'])"
   ]
  },
  {
   "cell_type": "code",
   "execution_count": 61,
   "metadata": {},
   "outputs": [],
   "source": [
    "data['type'] = np.where(data[\"type\"] == \"（飞机场）出发\", \"交通设施服务\",data['type'])"
   ]
  },
  {
   "cell_type": "code",
   "execution_count": 63,
   "metadata": {},
   "outputs": [],
   "source": [
    "data['type'] = np.where(data[\"type\"] == \"（火车站）出站口\", \"交通设施服务\",data['type'])"
   ]
  },
  {
   "cell_type": "code",
   "execution_count": 64,
   "metadata": {},
   "outputs": [],
   "source": [
    "data['type'] = np.where(data[\"type\"] == \"（火车站）进站口\", \"交通设施服务\",data['type'])"
   ]
  },
  {
   "cell_type": "code",
   "execution_count": 66,
   "metadata": {},
   "outputs": [],
   "source": [
    "for city in citys:\n",
    "    types = city[1].groupby(city[1]['type'])\n",
    "    for typei in types:\n",
    "        typei[1].to_csv(str(city[0])+str(typei[0])+'.csv',index = False,encoding = 'gbk')"
   ]
  },
  {
   "cell_type": "code",
   "execution_count": null,
   "metadata": {},
   "outputs": [],
   "source": []
  }
 ],
 "metadata": {
  "kernelspec": {
   "display_name": "Python 3",
   "language": "python",
   "name": "python3"
  },
  "language_info": {
   "codemirror_mode": {
    "name": "ipython",
    "version": 3
   },
   "file_extension": ".py",
   "mimetype": "text/x-python",
   "name": "python",
   "nbconvert_exporter": "python",
   "pygments_lexer": "ipython3",
   "version": "3.6.8"
  }
 },
 "nbformat": 4,
 "nbformat_minor": 2
}
